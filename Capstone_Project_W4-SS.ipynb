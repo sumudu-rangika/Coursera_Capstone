{
    "nbformat_minor": 1, 
    "cells": [
        {
            "source": "## 1.\tIntroduction", 
            "cell_type": "markdown", 
            "metadata": {}
        }, 
        {
            "source": "### 1.1.\tBackground", 
            "cell_type": "markdown", 
            "metadata": {}
        }, 
        {
            "source": "\n\nBerlin city is one of the German\u2019s federal states. It consists of twelve boroughs each with its own local government, under Berlin\u2019s city and state government. Each borough is governed by a council with five councilors and a borough mayor. Each borough is made up of several officially recognized neighborhoods/localities. These neighborhoods/ localities do not have their own governmental bodies, but are recognized by the city and the boroughs for planning and statistical purposes. It is beneficial for each borough council to have an effective plan on improving the infrastructure of its localities within a year. This will also help the city government to allocate funds appropriately and ultimately improve the living standards and well-being of the inhabitants. In order to achieve this it is advantageous to predict and identify the behavior of inhabitants within localities of each borough, most popular areas, venues, activities etc. This will in turn help the borough council to identify what, where and how to plan on improving the underlying infrastructure to facilitate its people.\n\n", 
            "cell_type": "markdown", 
            "metadata": {
                "collapsed": true
            }
        }, 
        {
            "source": "### 1.2.\tProblem", 
            "cell_type": "markdown", 
            "metadata": {}
        }, 
        {
            "source": "\n\nUsually each borough\u2019s local government is allocated funds to improve living standards and general well-being of its inhabitants and it is important that these funds are utilized in a way that the population receives the maximum benefits every year. Therefore, it is critical for the local government of each borough to identify the most effective ways, such as on what, where and how to utilize the allocated funds. \n\nLocation data is freely available and easily accessible. Analyzing the location data within the city of Berlin can be used to identify the most popular and trending clusters/ venues among the inhabitants of each locality in each borough. This information will help to identify the common behavioral patterns of inhabitants including popular sports, other leisure activities and places where most people like to spend time during their free time  specially on weekends, E.g. popular places of eating etc. \n\nLocal governments like borough councils can utilize this information in their yearly planing and fund management processes in order to effectively and efficiently plan and manage their funds allocated to improve underlying infrastructure to uplift living standards of its inhabitants and ensure well-being in terms of  physical and mental health, safely, comfort etc.\n\n", 
            "cell_type": "markdown", 
            "metadata": {}
        }, 
        {
            "source": "### 1.3.\tInterest", 
            "cell_type": "markdown", 
            "metadata": {}
        }, 
        {
            "source": "\nThe project findings will directly be beneficial for local governments of each borough in their planning, designing strategies and fund management processes. It will also provide valuable insights on future planning of the borough infrastructure and decision making as well. The findings of the project will also benefit inhabitants of each borough localities ensuring them an easy, healthy, comfortable, safe life style. \n", 
            "cell_type": "markdown", 
            "metadata": {}
        }, 
        {
            "source": "## 2.\tData", 
            "cell_type": "markdown", 
            "metadata": {}
        }, 
        {
            "source": "### 2.1.\tData Sources", 
            "cell_type": "markdown", 
            "metadata": {}
        }, 
        {
            "source": "\n\n\nInformation on boroughs of Berlin city and each of its localities/ neighborhoods (such as names, population density of officially recognized boroughs and their localities/ neighborhoods) were scraped from the wiki web page:  https://en.wikipedia.org/wiki/Boroughs_and_neighborhoods_of_Berlin\n\nLocation data/ geographical coordinates of each borough and each of their localities were obtained using Foursquare API. Foursquare API was also used to get data about popular/ trending venues, venue categories etc. for each locality.\n", 
            "cell_type": "markdown", 
            "metadata": {}
        }, 
        {
            "source": "### 2.2.\tData Preprocessing", 
            "cell_type": "markdown", 
            "metadata": {}
        }, 
        {
            "source": "Boroughs and each of its localities together with location data (latitudes and longitudes) were arranged in a python dataframe for downstream analysis. Final cleaned dataframe included columns for borough name, locality name, postal code of locality, latitude and longitude of locality. For this analysis three maximum localities were chosen from each borough which had highest population densities for the reported year.\n\nBased on the information in this final dataframe further analysis were carried out for each of the twelve boroughs of the city of Berlin. Using Foursquare API popular venues were selected for each locality. 10 most popular venues and venue categories were identified using that data and stored in python dataframes for detailed analyses. Trending venues were identified at specific days of the week based on foot traffic at a given time E.g. on weekends. \n", 
            "cell_type": "markdown", 
            "metadata": {}
        }, 
        {
            "source": "# E.g. Dataframe with postal_code per locality, borough, localities, geographical data (Latitude & Longitude)\n\nPostal_code \tBorough \tLocality \tLatitude \tLongitude\n0 \t0106 \tMitte \tGesundbrunnen \t52.550920 \t13.384846\n1 \t0103 \tMitte \tHansaviertel \t52.519123 \t13.341872\n2 \t0102 \tMitte \tMoabit \t52.530102 \t13.342542\n3 \t0202 \tFriedrichshain-Kreuzberg \tKreuzberg \t52.497644 \t13.411914\n4 \t0201 \tFriedrichshain-Kreuzberg \tFriedrichshain \t52.512215 \t13.450290\n5 \t0301 \tPankow \tPrenzlauer Berg \t52.539847 \t13.428565\n6 \t0307 \tPankow \tPankow \t52.566017 \t13.403090\n7 \t0302 \tPankow \tWei\u00dfensee \t52.554619 \t13.463002\n8 \t0402 \tCharlottenburg-Wilmersdorf \tWilmersdorf \t52.487115 \t13.320330\n9 \t0401 \tCharlottenburg-Wilmersdorf \tCharlottenburg \t52.515747 \t13.309683\n10 \t0407 \tCharlottenburg-Wilmersdorf \tHalensee \t52.497226 \t13.292999\n11 \t0508 \tSpandau \tFalkenhagener Feld \t52.552403 \t13.166894\n12 \t0501 \tSpandau \tSpandau \t52.535788 \t13.197792\n13 \t0504 \tSpandau \tStaaken \t52.532271 \t13.143367\n14 \t0601 \tSteglitz-Zehlendorf \tSteglitz \t52.457257 \t13.322287\n15 \t0603 \tSteglitz-Zehlendorf \tLankwitz \t52.433698 \t13.345486\n16 \t0602 \tSteglitz-Zehlendorf \tLichterfelde \t52.437293 \t13.313864\n17 \t0702 \tTempelhof-Sch\u00f6neberg \tFriedenau \t52.472075 \t13.329642\n18 \t0701 \tTempelhof-Sch\u00f6neberg \tSch\u00f6neberg \t52.482157 \t13.355190\n19 \t0704 \tTempelhof-Sch\u00f6neberg \tMariendorf \t52.440080 \t13.390028\n20 \t0805 \tNeuk\u00f6lln \tGropiusstadt \t52.424949 \t13.466183\n21 \t0801 \tNeuk\u00f6lln \tNeuk\u00f6lln \t52.481150 \t13.435350\n22 \t0803 \tNeuk\u00f6lln \tBuckow \t52.418662 \t13.428950\n23 \t0901 \tTreptow-K\u00f6penick \tAlt-Treptow \t52.492563 \t13.459874\n24 \t0902 \tTreptow-K\u00f6penick \tPl\u00e4nterwald \t52.479544 \t13.478808\n25 \t0903 \tTreptow-K\u00f6penick \tBaumschulenweg \t52.461694 \t13.481548\n26 \t1005 \tMarzahn-Hellersdorf \tHellersdorf \t52.536854 \t13.604774\n27 \t1001 \tMarzahn-Hellersdorf \tMarzahn \t52.542948 \t13.563142\n28 \t1003 \tMarzahn-Hellersdorf \tKaulsdorf \t52.510132 \t13.580990\n29 \t1111 \tLichtenberg \tFennpfuhl \t52.528785 \t13.473469\n30 \t1109 \tLichtenberg \tNeu-Hohensch\u00f6nhausen \t52.566331 \t13.514065\n31 \t1101 \tLichtenberg \tFriedrichsfelde \t52.502936 \t13.520546\n32 \t1210 \tReinickendorf \tM\u00e4rkisches Viertel \t52.599312 \t13.356532\n33 \t1201 \tReinickendorf \tReinickendorf \t52.571186 \t13.345596\n34 \t1207 \tReinickendorf \tWaidmannslust \t52.605993 \t13.321046", 
            "cell_type": "code", 
            "metadata": {}, 
            "outputs": [], 
            "execution_count": null
        }, 
        {
            "source": "#E.g. Venue information obtained for \"Gesundbrunnen\" borough using Foursquare API\n\nLocality \tLocality Latitude \tLocality Longitude \tVenue \tVenue Latitude \tVenue Longitude \tVenue Category\n0 \tGesundbrunnen \t52.550920 \t13.384846 \tLa Femme \t52.550107 \t13.385304 \tBreakfast Spot\n1 \tGesundbrunnen \t52.550920 \t13.384846 \tIl Milanese del Tacco \t52.551772 \t13.384107 \tGourmet Shop\n2 \tGesundbrunnen \t52.550920 \t13.384846 \tF-Bar \t52.551908 \t13.386493 \tDive Bar\n3 \tGesundbrunnen \t52.550920 \t13.384846 \tMOXY Berlin Humboldthain Park \t52.549568 \t13.384071 \tHotel\n4 \tGesundbrunnen \t52.550920 \t13.384846 \tCurry Baude \t52.549420 \t13.386999 \tCurrywurst Joint\n5 \tGesundbrunnen \t52.550920 \t13.384846 \tDaGiorgio's \t52.552334 \t13.386916 \tItalian Restaurant\n6 \tGesundbrunnen \t52.550920 \t13.384846 \tShalimar Restaurant \t52.552335 \t13.387931 \tPakistani Restaurant\n7 \tGesundbrunnen \t52.550920 \t13.384846 \tMagic Mountain Kletterhalle \t52.548613 \t13.381902 \tClimbing Gym", 
            "cell_type": "code", 
            "metadata": {}, 
            "outputs": [], 
            "execution_count": null
        }
    ], 
    "metadata": {
        "kernelspec": {
            "display_name": "Python 3.5", 
            "name": "python3", 
            "language": "python"
        }, 
        "language_info": {
            "mimetype": "text/x-python", 
            "nbconvert_exporter": "python", 
            "version": "3.5.5", 
            "name": "python", 
            "pygments_lexer": "ipython3", 
            "file_extension": ".py", 
            "codemirror_mode": {
                "version": 3, 
                "name": "ipython"
            }
        }
    }, 
    "nbformat": 4
}