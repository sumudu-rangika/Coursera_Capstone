{
    "nbformat_minor": 2, 
    "cells": [
        {
            "source": "## Explore Neighbourhoods in the city of Toronto", 
            "cell_type": "markdown", 
            "metadata": {}
        }, 
        {
            "source": "##### Import reqiured python libraries", 
            "cell_type": "markdown", 
            "metadata": {}
        }, 
        {
            "source": "from bs4 import BeautifulSoup\nimport requests\nimport pandas as pd", 
            "cell_type": "code", 
            "metadata": {}, 
            "outputs": [], 
            "execution_count": 1
        }, 
        {
            "source": "##### Get table data in the web page in to a dataframe ", 
            "cell_type": "markdown", 
            "metadata": {}
        }, 
        {
            "source": "dfs = pd.read_html('https://en.wikipedia.org/wiki/List_of_postal_codes_of_Canada:_M', header=0)\ndf = dfs[0]\n#df", 
            "cell_type": "code", 
            "metadata": {}, 
            "outputs": [], 
            "execution_count": 2
        }, 
        {
            "source": "##### Remove rows with 'Not assigned' Borough", 
            "cell_type": "markdown", 
            "metadata": {}
        }, 
        {
            "source": "df_new = (df[df['Borough'] != 'Not assigned']).reset_index(drop=True)\n#df_new", 
            "cell_type": "code", 
            "metadata": {}, 
            "outputs": [], 
            "execution_count": 3
        }, 
        {
            "source": "##### Assign Borough name to Neighbourhoods with 'Not assigned' tag", 
            "cell_type": "markdown", 
            "metadata": {}
        }, 
        {
            "source": "for index, row in df_new.iterrows():\n    if row['Neighbourhood'] == 'Not assigned':\n        df_new.at[index,'Neighbourhood'] = row['Borough']\n#df_new.head(20)", 
            "cell_type": "code", 
            "metadata": {
                "scrolled": true
            }, 
            "outputs": [], 
            "execution_count": 4
        }, 
        {
            "source": "##### Groupby 'Postcode' column and combine rows with Neighbourhoods having assigned the same 'Postcode'", 
            "cell_type": "markdown", 
            "metadata": {}
        }, 
        {
            "source": "strJoin = lambda x:\",\".join(x.astype(str))     \ndf_merged = df_new.groupby(['Postcode','Borough']).agg({\"Neighbourhood\":strJoin}).reset_index()\n#df_merged", 
            "cell_type": "code", 
            "metadata": {}, 
            "outputs": [], 
            "execution_count": 5
        }, 
        {
            "source": "df_merged.shape", 
            "cell_type": "code", 
            "metadata": {}, 
            "outputs": [
                {
                    "output_type": "execute_result", 
                    "data": {
                        "text/plain": "(103, 3)"
                    }, 
                    "execution_count": 6, 
                    "metadata": {}
                }
            ], 
            "execution_count": 6
        }
    ], 
    "metadata": {
        "kernelspec": {
            "display_name": "Python 3.5", 
            "name": "python3", 
            "language": "python"
        }, 
        "language_info": {
            "mimetype": "text/x-python", 
            "nbconvert_exporter": "python", 
            "version": "3.5.5", 
            "name": "python", 
            "pygments_lexer": "ipython3", 
            "file_extension": ".py", 
            "codemirror_mode": {
                "version": 3, 
                "name": "ipython"
            }
        }
    }, 
    "nbformat": 4
}